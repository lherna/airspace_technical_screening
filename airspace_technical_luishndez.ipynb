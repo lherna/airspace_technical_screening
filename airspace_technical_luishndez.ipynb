{
 "cells": [
  {
   "cell_type": "markdown",
   "metadata": {},
   "source": [
    "# Airspace Technologies Technical Screening - Luis A. Hernandez"
   ]
  },
  {
   "cell_type": "markdown",
   "metadata": {},
   "source": [
    "## Import data and corresponding libraries"
   ]
  },
  {
   "cell_type": "code",
   "execution_count": 1,
   "metadata": {},
   "outputs": [],
   "source": [
    "#By convention, let's start by importing the libraries we will need for this brief analysis.\n",
    "from sklearn.linear_model import LinearRegression, LogisticRegression\n",
    "from sklearn.model_selection import train_test_split, cross_val_score\n",
    "from sklearn.preprocessing import MinMaxScaler\n",
    "import statsmodels.api as sm\n",
    "import seaborn as sns\n",
    "import pandas as pd\n",
    "import json"
   ]
  },
  {
   "cell_type": "code",
   "execution_count": 2,
   "metadata": {},
   "outputs": [],
   "source": [
    "#Let's start by importing the file we are going to work with.\n",
    "aspace_orders = []\n",
    "with open('order_records.log') as file:\n",
    "    for row in file:\n",
    "        aspace_orders.append(row)"
   ]
  },
  {
   "cell_type": "markdown",
   "metadata": {},
   "source": [
    "## Cleaning section"
   ]
  },
  {
   "cell_type": "markdown",
   "metadata": {},
   "source": [
    "Once imported, I wanted to familiarize myself with the data. Given that I now had a list of strings with the data embedded inside, the following steps to clean it up was to eliminate extra parts of strings within each element of the list, pass it onto a dictionary and eventually generate a dataframe that could be used for the analysis section."
   ]
  },
  {
   "cell_type": "code",
   "execution_count": 3,
   "metadata": {},
   "outputs": [
    {
     "data": {
      "text/plain": [
       "\"0,{'order_id': 21000, 'package': {'weight': 326, 'volume': 62018, 'imperial_unit': 'false'},'service_line': 34}\\n\""
      ]
     },
     "execution_count": 3,
     "metadata": {},
     "output_type": "execute_result"
    }
   ],
   "source": [
    "aspace_orders[0]"
   ]
  },
  {
   "cell_type": "code",
   "execution_count": 4,
   "metadata": {},
   "outputs": [],
   "source": [
    "#Now that we have the file, the next thing to do is to clean it up.\n",
    "#We can start by getting rid of the last row since it is empty.\n",
    "aspace_orders = aspace_orders[:1000]"
   ]
  },
  {
   "cell_type": "code",
   "execution_count": 5,
   "metadata": {},
   "outputs": [],
   "source": [
    "#Next, we can see that there is an explicit output of the newline in each row.\n",
    "#To eliminate this from the data, we can filter this out through a list comprehension.\n",
    "aspace_orders = [i[:-1] for i in aspace_orders]"
   ]
  },
  {
   "cell_type": "code",
   "execution_count": 6,
   "metadata": {},
   "outputs": [],
   "source": [
    "#Similarly, we can also eliminate the row index as well as any extra string elements in the beginning of each row.\n",
    "#First, I captured the index up to the point where I want to clean up this data.\n",
    "dex = [j.index('{') for j in aspace_orders]"
   ]
  },
  {
   "cell_type": "code",
   "execution_count": 7,
   "metadata": {},
   "outputs": [],
   "source": [
    "#Now that I have the indices, I can get rid of the extra strings at the beginning of each row.\n",
    "aspace_orders = [aspace_orders[k][dex[k]:] for k in range(len(dex))]"
   ]
  },
  {
   "cell_type": "code",
   "execution_count": 8,
   "metadata": {},
   "outputs": [],
   "source": [
    "#Next, let's flip single quotes with double quotes and vice-versa \n",
    "#in order to prepare the dataset for a dictionary transformation that can be more practically manipulated\n",
    "#in the preparation for the dataframe.\n",
    "aspace_orders = [str(l).replace(\"'\",'\"') for l in aspace_orders]"
   ]
  },
  {
   "cell_type": "code",
   "execution_count": 9,
   "metadata": {},
   "outputs": [],
   "source": [
    "#As mentioned, let's now transform to a more practical list of dictionaries.\n",
    "dict_asporders = [json.loads(m) for m in aspace_orders]"
   ]
  },
  {
   "cell_type": "code",
   "execution_count": 10,
   "metadata": {},
   "outputs": [],
   "source": [
    "#From here, what is left is the extraction of the 'package' data and the deletion of this key-value pair.\n",
    "[dict_asporders[m].update(dict_asporders[m]['package']) for m in range(len(dict_asporders))];\n",
    "[p.pop('package') for p in dict_asporders];"
   ]
  },
  {
   "cell_type": "code",
   "execution_count": 11,
   "metadata": {},
   "outputs": [],
   "source": [
    "#Now that I have a well organized dictionary, \n",
    "#by convention I can now generate a dataframe that can further aide us in our analysis.\n",
    "airspace_orders_df = pd.DataFrame.from_dict(dict_asporders)"
   ]
  },
  {
   "cell_type": "markdown",
   "metadata": {},
   "source": [
    "From this point on, I could have generated some quick stats, but given that there were different unit measurements being used, I initially thought it was a better idea if everything was converted into the imperial units, since we are in the United States (I later realized that this was not needed for my model, but I still present it to show that the first choice model-linear regression-was worked on). "
   ]
  },
  {
   "cell_type": "code",
   "execution_count": 12,
   "metadata": {},
   "outputs": [
    {
     "data": {
      "text/html": [
       "<div>\n",
       "<style scoped>\n",
       "    .dataframe tbody tr th:only-of-type {\n",
       "        vertical-align: middle;\n",
       "    }\n",
       "\n",
       "    .dataframe tbody tr th {\n",
       "        vertical-align: top;\n",
       "    }\n",
       "\n",
       "    .dataframe thead th {\n",
       "        text-align: right;\n",
       "    }\n",
       "</style>\n",
       "<table border=\"1\" class=\"dataframe\">\n",
       "  <thead>\n",
       "    <tr style=\"text-align: right;\">\n",
       "      <th></th>\n",
       "      <th>order_id</th>\n",
       "      <th>service_line</th>\n",
       "      <th>weight</th>\n",
       "      <th>volume</th>\n",
       "      <th>imperial_unit</th>\n",
       "    </tr>\n",
       "  </thead>\n",
       "  <tbody>\n",
       "    <tr>\n",
       "      <th>0</th>\n",
       "      <td>21000</td>\n",
       "      <td>34</td>\n",
       "      <td>326</td>\n",
       "      <td>62018</td>\n",
       "      <td>false</td>\n",
       "    </tr>\n",
       "    <tr>\n",
       "      <th>1</th>\n",
       "      <td>21001</td>\n",
       "      <td>34</td>\n",
       "      <td>460</td>\n",
       "      <td>110592</td>\n",
       "      <td>false</td>\n",
       "    </tr>\n",
       "    <tr>\n",
       "      <th>2</th>\n",
       "      <td>21002</td>\n",
       "      <td>88</td>\n",
       "      <td>500</td>\n",
       "      <td>1440</td>\n",
       "      <td>false</td>\n",
       "    </tr>\n",
       "    <tr>\n",
       "      <th>3</th>\n",
       "      <td>21003</td>\n",
       "      <td>34</td>\n",
       "      <td>260</td>\n",
       "      <td>100700</td>\n",
       "      <td>true</td>\n",
       "    </tr>\n",
       "    <tr>\n",
       "      <th>4</th>\n",
       "      <td>21004</td>\n",
       "      <td>88</td>\n",
       "      <td>168</td>\n",
       "      <td>20700</td>\n",
       "      <td>true</td>\n",
       "    </tr>\n",
       "  </tbody>\n",
       "</table>\n",
       "</div>"
      ],
      "text/plain": [
       "   order_id service_line  weight  volume imperial_unit\n",
       "0     21000           34     326   62018         false\n",
       "1     21001           34     460  110592         false\n",
       "2     21002           88     500    1440         false\n",
       "3     21003           34     260  100700          true\n",
       "4     21004           88     168   20700          true"
      ]
     },
     "execution_count": 12,
     "metadata": {},
     "output_type": "execute_result"
    }
   ],
   "source": [
    "#Quick view of our dataframe.\n",
    "airspace_orders_df.head()"
   ]
  },
  {
   "cell_type": "code",
   "execution_count": 13,
   "metadata": {},
   "outputs": [],
   "source": [
    "#Copy dataframe for a later use.\n",
    "aspace_df = airspace_orders_df.copy()"
   ]
  },
  {
   "cell_type": "code",
   "execution_count": 14,
   "metadata": {},
   "outputs": [],
   "source": [
    "#Multiplying by the corresponding factor to bring them to Imperial units, we get:\n",
    "airspace_orders_df.loc[airspace_orders_df['imperial_unit'] == 'false','weight'] = airspace_orders_df[airspace_orders_df['imperial_unit'] == 'false']['weight'] * 2.2\n",
    "airspace_orders_df.loc[airspace_orders_df['imperial_unit'] == 'false','volume'] = airspace_orders_df[airspace_orders_df['imperial_unit'] == 'false']['volume'] * 0.061"
   ]
  },
  {
   "cell_type": "code",
   "execution_count": 15,
   "metadata": {},
   "outputs": [
    {
     "data": {
      "text/html": [
       "<div>\n",
       "<style scoped>\n",
       "    .dataframe tbody tr th:only-of-type {\n",
       "        vertical-align: middle;\n",
       "    }\n",
       "\n",
       "    .dataframe tbody tr th {\n",
       "        vertical-align: top;\n",
       "    }\n",
       "\n",
       "    .dataframe thead th {\n",
       "        text-align: right;\n",
       "    }\n",
       "</style>\n",
       "<table border=\"1\" class=\"dataframe\">\n",
       "  <thead>\n",
       "    <tr style=\"text-align: right;\">\n",
       "      <th></th>\n",
       "      <th>order_id</th>\n",
       "      <th>service_line</th>\n",
       "      <th>weight(lbs)</th>\n",
       "      <th>vol(in^3)</th>\n",
       "    </tr>\n",
       "  </thead>\n",
       "  <tbody>\n",
       "    <tr>\n",
       "      <th>0</th>\n",
       "      <td>21000</td>\n",
       "      <td>34.0</td>\n",
       "      <td>717.2</td>\n",
       "      <td>3783.098</td>\n",
       "    </tr>\n",
       "    <tr>\n",
       "      <th>1</th>\n",
       "      <td>21001</td>\n",
       "      <td>34.0</td>\n",
       "      <td>1012.0</td>\n",
       "      <td>6746.112</td>\n",
       "    </tr>\n",
       "    <tr>\n",
       "      <th>2</th>\n",
       "      <td>21002</td>\n",
       "      <td>88.0</td>\n",
       "      <td>1100.0</td>\n",
       "      <td>87.840</td>\n",
       "    </tr>\n",
       "    <tr>\n",
       "      <th>3</th>\n",
       "      <td>21003</td>\n",
       "      <td>34.0</td>\n",
       "      <td>260.0</td>\n",
       "      <td>100700.000</td>\n",
       "    </tr>\n",
       "    <tr>\n",
       "      <th>4</th>\n",
       "      <td>21004</td>\n",
       "      <td>88.0</td>\n",
       "      <td>168.0</td>\n",
       "      <td>20700.000</td>\n",
       "    </tr>\n",
       "  </tbody>\n",
       "</table>\n",
       "</div>"
      ],
      "text/plain": [
       "   order_id  service_line  weight(lbs)   vol(in^3)\n",
       "0     21000          34.0        717.2    3783.098\n",
       "1     21001          34.0       1012.0    6746.112\n",
       "2     21002          88.0       1100.0      87.840\n",
       "3     21003          34.0        260.0  100700.000\n",
       "4     21004          88.0        168.0   20700.000"
      ]
     },
     "execution_count": 15,
     "metadata": {},
     "output_type": "execute_result"
    }
   ],
   "source": [
    "#Generating a new dataframe, I have dropped off the 'imperial_unit' column,\n",
    "#and have renamed the weight and volume column to include the units.\n",
    "orders_df = airspace_orders_df.drop(['imperial_unit'], axis = 1).rename(columns={'weight':'weight(lbs)','volume':'vol(in^3)'})\n",
    "orders_df['service_line'] = orders_df['service_line'].astype(float)\n",
    "#Let's take a quick look at how our data looks like now:\n",
    "orders_df.head()"
   ]
  },
  {
   "cell_type": "markdown",
   "metadata": {},
   "source": [
    "## Analysis Section"
   ]
  },
  {
   "cell_type": "markdown",
   "metadata": {},
   "source": [
    "Since this was an open ended question, it was initially a little challenging to go in a particular direction even though once I saw the true-false imperial_unit column, the logistic regression alarm was raised in my head. Nonetheless, I still stuck with linear regression to see if I could apply it to the dataset in another response variable that I also had in mind - service line. "
   ]
  },
  {
   "cell_type": "code",
   "execution_count": 16,
   "metadata": {},
   "outputs": [
    {
     "data": {
      "text/html": [
       "<div>\n",
       "<style scoped>\n",
       "    .dataframe tbody tr th:only-of-type {\n",
       "        vertical-align: middle;\n",
       "    }\n",
       "\n",
       "    .dataframe tbody tr th {\n",
       "        vertical-align: top;\n",
       "    }\n",
       "\n",
       "    .dataframe thead th {\n",
       "        text-align: right;\n",
       "    }\n",
       "</style>\n",
       "<table border=\"1\" class=\"dataframe\">\n",
       "  <thead>\n",
       "    <tr style=\"text-align: right;\">\n",
       "      <th></th>\n",
       "      <th>order_id</th>\n",
       "      <th>service_line</th>\n",
       "      <th>weight(lbs)</th>\n",
       "      <th>vol(in^3)</th>\n",
       "    </tr>\n",
       "  </thead>\n",
       "  <tbody>\n",
       "    <tr>\n",
       "      <th>count</th>\n",
       "      <td>1000.000000</td>\n",
       "      <td>1000.000000</td>\n",
       "      <td>1000.000000</td>\n",
       "      <td>1.000000e+03</td>\n",
       "    </tr>\n",
       "    <tr>\n",
       "      <th>mean</th>\n",
       "      <td>21509.500000</td>\n",
       "      <td>49.386000</td>\n",
       "      <td>833.443800</td>\n",
       "      <td>1.817159e+04</td>\n",
       "    </tr>\n",
       "    <tr>\n",
       "      <th>std</th>\n",
       "      <td>424.715945</td>\n",
       "      <td>16.201342</td>\n",
       "      <td>2809.330844</td>\n",
       "      <td>6.517969e+04</td>\n",
       "    </tr>\n",
       "    <tr>\n",
       "      <th>min</th>\n",
       "      <td>21000.000000</td>\n",
       "      <td>14.000000</td>\n",
       "      <td>4.400000</td>\n",
       "      <td>6.100000e-02</td>\n",
       "    </tr>\n",
       "    <tr>\n",
       "      <th>25%</th>\n",
       "      <td>21249.750000</td>\n",
       "      <td>34.000000</td>\n",
       "      <td>220.000000</td>\n",
       "      <td>1.721755e+03</td>\n",
       "    </tr>\n",
       "    <tr>\n",
       "      <th>50%</th>\n",
       "      <td>21500.500000</td>\n",
       "      <td>34.000000</td>\n",
       "      <td>385.000000</td>\n",
       "      <td>3.325720e+03</td>\n",
       "    </tr>\n",
       "    <tr>\n",
       "      <th>75%</th>\n",
       "      <td>21750.250000</td>\n",
       "      <td>65.000000</td>\n",
       "      <td>787.050000</td>\n",
       "      <td>1.014552e+04</td>\n",
       "    </tr>\n",
       "    <tr>\n",
       "      <th>max</th>\n",
       "      <td>31348.000000</td>\n",
       "      <td>88.000000</td>\n",
       "      <td>79774.200000</td>\n",
       "      <td>1.555200e+06</td>\n",
       "    </tr>\n",
       "  </tbody>\n",
       "</table>\n",
       "</div>"
      ],
      "text/plain": [
       "           order_id  service_line   weight(lbs)     vol(in^3)\n",
       "count   1000.000000   1000.000000   1000.000000  1.000000e+03\n",
       "mean   21509.500000     49.386000    833.443800  1.817159e+04\n",
       "std      424.715945     16.201342   2809.330844  6.517969e+04\n",
       "min    21000.000000     14.000000      4.400000  6.100000e-02\n",
       "25%    21249.750000     34.000000    220.000000  1.721755e+03\n",
       "50%    21500.500000     34.000000    385.000000  3.325720e+03\n",
       "75%    21750.250000     65.000000    787.050000  1.014552e+04\n",
       "max    31348.000000     88.000000  79774.200000  1.555200e+06"
      ]
     },
     "execution_count": 16,
     "metadata": {},
     "output_type": "execute_result"
    }
   ],
   "source": [
    "#So, starting off the stats values I got were:\n",
    "orders_df.describe()"
   ]
  },
  {
   "cell_type": "code",
   "execution_count": 17,
   "metadata": {},
   "outputs": [
    {
     "data": {
      "text/plain": [
       "<seaborn.axisgrid.PairGrid at 0x7f8c63479b20>"
      ]
     },
     "execution_count": 17,
     "metadata": {},
     "output_type": "execute_result"
    },
    {
     "data": {
      "image/png": "[encoded data removed]",
      "text/plain": [
       "<Figure size 720x720 with 20 Axes>"
      ]
     },
     "metadata": {
      "needs_background": "light"
     },
     "output_type": "display_data"
    }
   ],
   "source": [
    "#Next, I tried to see if there are any correlations between the variables via seaborn's pairplot.\n",
    "sns.pairplot(orders_df)"
   ]
  },
  {
   "cell_type": "markdown",
   "metadata": {},
   "source": [
    "Here, I could see that there were some values sticking out beyond most of our data points in particular locations. To me this could be an indication of outliers, but before that I wanted to double check explicitly if there was or wasn't  a relationship between the variables through the correlation coefficients."
   ]
  },
  {
   "cell_type": "code",
   "execution_count": 18,
   "metadata": {},
   "outputs": [
    {
     "data": {
      "text/plain": [
       "0.12626921742470976"
      ]
     },
     "execution_count": 18,
     "metadata": {},
     "output_type": "execute_result"
    }
   ],
   "source": [
    "orders_df['weight(lbs)'].corr(orders_df['vol(in^3)'])"
   ]
  },
  {
   "cell_type": "code",
   "execution_count": 19,
   "metadata": {},
   "outputs": [
    {
     "data": {
      "text/plain": [
       "-0.015487794357448082"
      ]
     },
     "execution_count": 19,
     "metadata": {},
     "output_type": "execute_result"
    }
   ],
   "source": [
    "orders_df['service_line'].corr(orders_df['vol(in^3)'])"
   ]
  },
  {
   "cell_type": "code",
   "execution_count": 20,
   "metadata": {},
   "outputs": [
    {
     "data": {
      "text/plain": [
       "0.11364687801454401"
      ]
     },
     "execution_count": 20,
     "metadata": {},
     "output_type": "execute_result"
    }
   ],
   "source": [
    "orders_df['weight(lbs)'].corr(orders_df['service_line'])"
   ]
  },
  {
   "cell_type": "markdown",
   "metadata": {},
   "source": [
    "Seeing that there was no clear linear relationship (yet), the next thing to do was to see what was up with the extreme values I previously mentioned. "
   ]
  },
  {
   "cell_type": "code",
   "execution_count": 21,
   "metadata": {},
   "outputs": [
    {
     "data": {
      "text/plain": [
       "<matplotlib.axes._subplots.AxesSubplot at 0x7f8c63d5d640>"
      ]
     },
     "execution_count": 21,
     "metadata": {},
     "output_type": "execute_result"
    },
    {
     "data": {
      "image/png": "[encoded data removed]",
      "text/plain": [
       "<Figure size 432x288 with 1 Axes>"
      ]
     },
     "metadata": {
      "needs_background": "light"
     },
     "output_type": "display_data"
    }
   ],
   "source": [
    "#Generated a barplot for the 'weight(lbs)' data.\n",
    "sns.distplot(orders_df['weight(lbs)'])"
   ]
  },
  {
   "cell_type": "code",
   "execution_count": 22,
   "metadata": {},
   "outputs": [
    {
     "data": {
      "text/plain": [
       "<matplotlib.axes._subplots.AxesSubplot at 0x7f8c644e4520>"
      ]
     },
     "execution_count": 22,
     "metadata": {},
     "output_type": "execute_result"
    },
    {
     "data": {
      "image/png": "[encoded data removed]",
      "text/plain": [
       "<Figure size 432x288 with 1 Axes>"
      ]
     },
     "metadata": {
      "needs_background": "light"
     },
     "output_type": "display_data"
    }
   ],
   "source": [
    "#Generated a boxplot for the 'weight(lbs)' data.\n",
    "sns.boxplot(orders_df['weight(lbs)'])"
   ]
  },
  {
   "cell_type": "code",
   "execution_count": 23,
   "metadata": {},
   "outputs": [
    {
     "data": {
      "image/png": "[encoded data removed]",
      "text/plain": [
       "<Figure size 432x288 with 1 Axes>"
      ]
     },
     "execution_count": 23,
     "metadata": {},
     "output_type": "execute_result"
    },
    {
     "data": {
      "image/png": "[encoded data removed]",
      "text/plain": [
       "<Figure size 432x288 with 1 Axes>"
      ]
     },
     "metadata": {
      "needs_background": "light"
     },
     "output_type": "display_data"
    }
   ],
   "source": [
    "#Generated qqplot for the 'weight(lbs)' data.\n",
    "sm.qqplot(orders_df['weight(lbs)'])"
   ]
  },
  {
   "cell_type": "code",
   "execution_count": 24,
   "metadata": {},
   "outputs": [
    {
     "data": {
      "text/plain": [
       "<matplotlib.axes._subplots.AxesSubplot at 0x7f8c647df940>"
      ]
     },
     "execution_count": 24,
     "metadata": {},
     "output_type": "execute_result"
    },
    {
     "data": {
      "image/png": "[encoded data removed]",
      "text/plain": [
       "<Figure size 432x288 with 1 Axes>"
      ]
     },
     "metadata": {
      "needs_background": "light"
     },
     "output_type": "display_data"
    }
   ],
   "source": [
    "#Generated a barplot for the 'vol(in^3)' data.\n",
    "sns.distplot(orders_df['vol(in^3)'])"
   ]
  },
  {
   "cell_type": "code",
   "execution_count": 25,
   "metadata": {},
   "outputs": [
    {
     "data": {
      "text/plain": [
       "<matplotlib.axes._subplots.AxesSubplot at 0x7f8c6496ad30>"
      ]
     },
     "execution_count": 25,
     "metadata": {},
     "output_type": "execute_result"
    },
    {
     "data": {
      "image/png": "[encoded data removed]",
      "text/plain": [
       "<Figure size 432x288 with 1 Axes>"
      ]
     },
     "metadata": {
      "needs_background": "light"
     },
     "output_type": "display_data"
    }
   ],
   "source": [
    "#Generated a barplot for the 'vol(in^3)' data.\n",
    "sns.boxplot(orders_df['vol(in^3)'])"
   ]
  },
  {
   "cell_type": "code",
   "execution_count": 26,
   "metadata": {},
   "outputs": [
    {
     "data": {
      "image/png": "[encoded data removed]",
      "text/plain": [
       "<Figure size 432x288 with 1 Axes>"
      ]
     },
     "execution_count": 26,
     "metadata": {},
     "output_type": "execute_result"
    },
    {
     "data": {
      "image/png": "[encoded data removed]",
      "text/plain": [
       "<Figure size 432x288 with 1 Axes>"
      ]
     },
     "metadata": {
      "needs_background": "light"
     },
     "output_type": "display_data"
    }
   ],
   "source": [
    "#Generated a qqplot for the 'vol(in^3)' data.\n",
    "sm.qqplot(orders_df['vol(in^3)'])"
   ]
  },
  {
   "cell_type": "markdown",
   "metadata": {},
   "source": [
    "Undoubtedly, there was a clear indication from all of the plots that there were outliers in this dataset, the next thing to do was to figure out which ones were the ones that would be omitted for the analysis. My initial thought was to omit datapoints that had a density which exceeded the most dense material we currently know about; once this was done, the next thing I considered was to omit values based on maximum values allowed for logistics transport in the United States. Upon further research and finding that the amount of datapoints omitted still did not generate a decent coefficient of determination output, I went ahead and used the interquartile range to replicate the boxplot cutoff section beyond the whiskers (to one cycle). Source: https://en.wikipedia.org/wiki/Interquartile_range"
   ]
  },
  {
   "cell_type": "code",
   "execution_count": 27,
   "metadata": {},
   "outputs": [],
   "source": [
    "#Filtered outliers for the 'weight(lbs)' column.\n",
    "lbs_diff = orders_df['weight(lbs)'].quantile(0.75) - orders_df['weight(lbs)'].quantile(0.25)\n",
    "orders_df1 = orders_df.loc[(orders_df['weight(lbs)'] >= orders_df['weight(lbs)'].quantile(0.25) - 1.5 * lbs_diff) \n",
    "                           &(orders_df['weight(lbs)'] <= orders_df['weight(lbs)'].quantile(0.75) + 1.5 * lbs_diff)].reset_index(drop=True)"
   ]
  },
  {
   "cell_type": "code",
   "execution_count": 28,
   "metadata": {},
   "outputs": [],
   "source": [
    "#Filtered outliers for the 'vol(in^3)' column.\n",
    "vol_diff = orders_df1['vol(in^3)'].quantile(0.75) - orders_df1['vol(in^3)'].quantile(0.25)\n",
    "orders_df1 = orders_df1.loc[(orders_df1['vol(in^3)'] >= orders_df1['vol(in^3)'].quantile(0.25) - 1.5 * vol_diff) \n",
    "                            &(orders_df1['vol(in^3)'] <= orders_df1['vol(in^3)'].quantile(0.75) + 1.5 * vol_diff)].reset_index(drop=True)"
   ]
  },
  {
   "cell_type": "markdown",
   "metadata": {},
   "source": [
    "Seeing once again if there was a linear relationship between the factors and the response variable - service_line - there was a small indication of it being there, but it was still not strong enough."
   ]
  },
  {
   "cell_type": "code",
   "execution_count": 29,
   "metadata": {},
   "outputs": [
    {
     "data": {
      "text/plain": [
       "0.21905465517210496"
      ]
     },
     "execution_count": 29,
     "metadata": {},
     "output_type": "execute_result"
    }
   ],
   "source": [
    "#Generated correlation coefficient for 'weight(lbs)' column.\n",
    "orders_df1['weight(lbs)'].corr(orders_df1['service_line'])"
   ]
  },
  {
   "cell_type": "code",
   "execution_count": 30,
   "metadata": {},
   "outputs": [
    {
     "data": {
      "text/plain": [
       "<matplotlib.axes._subplots.AxesSubplot at 0x7f8c64c00610>"
      ]
     },
     "execution_count": 30,
     "metadata": {},
     "output_type": "execute_result"
    },
    {
     "data": {
      "image/png": "[encoded data removed]",
      "text/plain": [
       "<Figure size 432x288 with 1 Axes>"
      ]
     },
     "metadata": {
      "needs_background": "light"
     },
     "output_type": "display_data"
    }
   ],
   "source": [
    "#Generated scatterplot to see relationship between 'service_line' and 'weight(lbs)'.\n",
    "sns.regplot(data=orders_df1,x='weight(lbs)',y='service_line')"
   ]
  },
  {
   "cell_type": "code",
   "execution_count": 31,
   "metadata": {},
   "outputs": [
    {
     "data": {
      "text/plain": [
       "-0.22297248496054758"
      ]
     },
     "execution_count": 31,
     "metadata": {},
     "output_type": "execute_result"
    }
   ],
   "source": [
    "#Generated correlation coefficient for 'vol(in^3)' column.\n",
    "orders_df1['vol(in^3)'].corr(orders_df1['service_line'])"
   ]
  },
  {
   "cell_type": "code",
   "execution_count": 32,
   "metadata": {},
   "outputs": [
    {
     "data": {
      "text/plain": [
       "<matplotlib.axes._subplots.AxesSubplot at 0x7f8c64505370>"
      ]
     },
     "execution_count": 32,
     "metadata": {},
     "output_type": "execute_result"
    },
    {
     "data": {
      "image/png": "[encoded data removed]",
      "text/plain": [
       "<Figure size 432x288 with 1 Axes>"
      ]
     },
     "metadata": {
      "needs_background": "light"
     },
     "output_type": "display_data"
    }
   ],
   "source": [
    "#Generated scatterplot to see relationship between 'service_line' and 'vol(in^3)'.\n",
    "sns.regplot(data=orders_df1,x='vol(in^3)',y='service_line')"
   ]
  },
  {
   "cell_type": "markdown",
   "metadata": {},
   "source": [
    "Performing a thorough exploration and preparation of the data for analysis, I finally was able to see how it performed with two models. As previously mentioned, my first intention was to perform a logistic regression (which is the second one presented in the section below), but I wanted to see if I could go a little more basic with linear regression, which is what I start off with in the next section."
   ]
  },
  {
   "cell_type": "markdown",
   "metadata": {},
   "source": [
    "## Machine Learning Section: Linear Regression"
   ]
  },
  {
   "cell_type": "code",
   "execution_count": 33,
   "metadata": {},
   "outputs": [],
   "source": [
    "#Defining the variables to be used for the linear regression model,\n",
    "#I went ahead and split the dataset with a corresponding breakoff point at 75-25 for the training and test sets.\n",
    "x=orders_df1[['vol(in^3)','weight(lbs)']]\n",
    "y=orders_df1[['service_line']]\n",
    "x_train,x_test,y_train,y_test = train_test_split(x,y,test_size=0.25,random_state=0)"
   ]
  },
  {
   "cell_type": "code",
   "execution_count": 34,
   "metadata": {},
   "outputs": [
    {
     "data": {
      "text/plain": [
       "0.21241859285259979"
      ]
     },
     "execution_count": 34,
     "metadata": {},
     "output_type": "execute_result"
    }
   ],
   "source": [
    "#Next, the model is performed on the dataset.\n",
    "model = LinearRegression().fit(x,y)\n",
    "#Viewing the coefficient of determination (R^2) for the training dataset, I got:\n",
    "model.score(x_train,y_train)"
   ]
  },
  {
   "cell_type": "code",
   "execution_count": 35,
   "metadata": {},
   "outputs": [
    {
     "data": {
      "text/plain": [
       "0.011559784620301161"
      ]
     },
     "execution_count": 35,
     "metadata": {},
     "output_type": "execute_result"
    }
   ],
   "source": [
    "#Generating a good value in the previous line, let's now see how it performs up against the test dataset.\n",
    "model.score(x_test,y_test)"
   ]
  },
  {
   "cell_type": "markdown",
   "metadata": {},
   "source": [
    "Performing poorly mainly due to the weak linear relationship from the start, this model was not satisfactory and so, this indicated that a slightly different direction had to be taken. Going with my second option, I went ahead and pivoted to see if a logistic regression could perform a little better on the dataset."
   ]
  },
  {
   "cell_type": "markdown",
   "metadata": {},
   "source": [
    "## Machine Learning Section: Logistic Regression"
   ]
  },
  {
   "cell_type": "markdown",
   "metadata": {},
   "source": [
    "Choosing the 'imperial_unit' column as the response variable, I transformed all of the false values to 0 and the true values to 1. Previous steps taken to eliminate outliers were also performed, namely, the boxplot innerquartile range that places the whisker extremes as my maximums and minimums."
   ]
  },
  {
   "cell_type": "code",
   "execution_count": 36,
   "metadata": {},
   "outputs": [],
   "source": [
    "#Transform boolean values to their binary counterpart and fully change the data type of 'service_line' column to int.\n",
    "aspace_df['imperial_unit'] = [0 if i=='false' else 1 for i in airspace_orders_df['imperial_unit']]\n",
    "aspace_df['service_line'] = [int(i) for i in aspace_df['service_line']]"
   ]
  },
  {
   "cell_type": "code",
   "execution_count": 37,
   "metadata": {},
   "outputs": [],
   "source": [
    "#Filtered outliers for the 'weight' column.\n",
    "weight_diff = aspace_df['weight'].quantile(0.75) - aspace_df['weight'].quantile(0.25)\n",
    "aspace_df1 = aspace_df.loc[(aspace_df['weight'] >= aspace_df['weight'].quantile(0.25) - 1.5 * weight_diff) \n",
    "                           &(aspace_df['weight'] <= aspace_df['weight'].quantile(0.75) + 1.5 * weight_diff)].reset_index(drop=True)"
   ]
  },
  {
   "cell_type": "code",
   "execution_count": 38,
   "metadata": {},
   "outputs": [],
   "source": [
    "#Filtered outliers for the 'volume' column.\n",
    "volume_diff = aspace_df1['volume'].quantile(0.75) - aspace_df1['volume'].quantile(0.25)\n",
    "aspace_df1 = aspace_df1.loc[(aspace_df1['volume'] >= aspace_df1['volume'].quantile(0.25) - 1.5 * volume_diff) \n",
    "                            & (aspace_df1['volume'] <= aspace_df1['volume'].quantile(0.75) + 1.5 * volume_diff)].reset_index(drop=True)"
   ]
  },
  {
   "cell_type": "code",
   "execution_count": 39,
   "metadata": {},
   "outputs": [
    {
     "data": {
      "text/plain": [
       "MinMaxScaler()"
      ]
     },
     "execution_count": 39,
     "metadata": {},
     "output_type": "execute_result"
    }
   ],
   "source": [
    "#Here, an extra step had to be taken to further improve the model's performance on the dataset, \n",
    "#namely, the normalization of our factor variables.\n",
    "scaler = MinMaxScaler()\n",
    "scaler.fit(aspace_df1[['service_line','weight','volume']].to_numpy())"
   ]
  },
  {
   "cell_type": "code",
   "execution_count": 40,
   "metadata": {},
   "outputs": [],
   "source": [
    "#Defining once again the corresponding variables to be used in the logisitic regression, \n",
    "#I went ahead and also did a 90-10 breakoff point for the training and test set split.\n",
    "lx = scaler.transform(aspace_df1[['service_line','weight','volume']].to_numpy())\n",
    "ly = aspace_df1['imperial_unit'].to_numpy()\n",
    "lx_train,lx_test,ly_train,ly_test = train_test_split(lx,ly,test_size=0.1,random_state=0)"
   ]
  },
  {
   "cell_type": "code",
   "execution_count": 41,
   "metadata": {},
   "outputs": [],
   "source": [
    "#Defining the model and it's hyperparameters.\n",
    "lmodel = LogisticRegression(solver='liblinear',multi_class='ovr')"
   ]
  },
  {
   "cell_type": "code",
   "execution_count": 42,
   "metadata": {},
   "outputs": [
    {
     "data": {
      "text/plain": [
       "0.8038709677419354"
      ]
     },
     "execution_count": 42,
     "metadata": {},
     "output_type": "execute_result"
    }
   ],
   "source": [
    "#Performing the model on the training set, \n",
    "#the coefficient of determination for the same set is.\n",
    "lmodel.fit(lx_train,ly_train)\n",
    "lmodel.score(lx_train,ly_train)"
   ]
  },
  {
   "cell_type": "code",
   "execution_count": 43,
   "metadata": {},
   "outputs": [
    {
     "data": {
      "text/plain": [
       "0.8620689655172413"
      ]
     },
     "execution_count": 43,
     "metadata": {},
     "output_type": "execute_result"
    }
   ],
   "source": [
    "#And finally, applying it to the test set, I got the following r^2 value:\n",
    "lmodel.score(lx_test,ly_test)"
   ]
  },
  {
   "cell_type": "markdown",
   "metadata": {},
   "source": [
    "Performing much better than the previous model, the r^2 value of 0.86 is quite satisfactory for a model performance. The remaining steps pending are (1) to alternatively see how our model performs in imperial_unit measurement prediction based on the factor values, and (2) a cross validation method that could have been taken to see how the model performs given the dataset size."
   ]
  },
  {
   "cell_type": "code",
   "execution_count": 44,
   "metadata": {},
   "outputs": [
    {
     "data": {
      "text/plain": [
       "array([[0.82198698, 0.17801302],\n",
       "       [0.79643489, 0.20356511],\n",
       "       [0.81892582, 0.18107418],\n",
       "       [0.77966691, 0.22033309]])"
      ]
     },
     "execution_count": 44,
     "metadata": {},
     "output_type": "execute_result"
    }
   ],
   "source": [
    "#Starting off with the probabilities of either encountering an imperial unit or not,\n",
    "#I show these below:\n",
    "lmodel.predict_proba(lx_test)[1:5]"
   ]
  },
  {
   "cell_type": "code",
   "execution_count": 45,
   "metadata": {},
   "outputs": [
    {
     "data": {
      "text/plain": [
       "array([0, 0, 0, 0, 0, 0, 0, 0, 0, 0, 0, 0, 0, 0, 0, 0, 0, 0, 0, 0, 0, 0,\n",
       "       0, 0, 0, 0, 0, 0, 0, 0, 0, 0, 0, 0, 0, 0, 0, 0, 0, 0, 0, 0, 0, 0,\n",
       "       0, 0, 0, 0, 0, 0, 0, 0, 0, 0, 0, 0, 0, 0, 0, 0, 0, 0, 0, 0, 0, 0,\n",
       "       0, 0, 0, 0, 0, 0, 0, 0, 0, 0, 0, 0, 0, 0, 0, 0, 0, 0, 0, 0, 0])"
      ]
     },
     "execution_count": 45,
     "metadata": {},
     "output_type": "execute_result"
    }
   ],
   "source": [
    "#Surprised to find that there were rarely any changes in the probabilities, \n",
    "#I wanted to double check this with a predicted output using the test dataset.\n",
    "y_pred = lmodel.predict(lx_test)\n",
    "y_pred"
   ]
  },
  {
   "cell_type": "markdown",
   "metadata": {},
   "source": [
    "Strickingly enough, this made me scratch my head for quite a while, but given the size of the dataset along with the overwhelming skewness that it has with the imperial_unit column being false, this made sense. Wanting to proceed with a further evaluation of the model via a confusion matrix, precision score, and specificity score, I was limited by the response variable prediction solution, so I ended here with my main analysis. As to this next portion, I present an alternative method of model evaluation that could have been taken given the size of this dataset and to show any selection bias that could have been present in the previous evaluation; regardless, the r^2 value still held consistent with previous findings and can be considered to be overall satisfactory."
   ]
  },
  {
   "cell_type": "code",
   "execution_count": 46,
   "metadata": {},
   "outputs": [
    {
     "data": {
      "text/plain": [
       "count    10.000000\n",
       "mean      0.809757\n",
       "std       0.005471\n",
       "min       0.802326\n",
       "25%       0.804598\n",
       "50%       0.813953\n",
       "75%       0.813953\n",
       "max       0.813953\n",
       "dtype: float64"
      ]
     },
     "execution_count": 46,
     "metadata": {},
     "output_type": "execute_result"
    }
   ],
   "source": [
    "#Define a dataframe of cross validation r^2 values.\n",
    "cv_df = pd.Series(cross_val_score(lmodel,lx,ly,cv=10))\n",
    "#Generate stats of model performace using cross validation.\n",
    "cv_df.describe()"
   ]
  }
 ],
 "metadata": {
  "kernelspec": {
   "display_name": "Python 3",
   "language": "python",
   "name": "python3"
  },
  "language_info": {
   "codemirror_mode": {
    "name": "ipython",
    "version": 3
   },
   "file_extension": ".py",
   "mimetype": "text/x-python",
   "name": "python",
   "nbconvert_exporter": "python",
   "pygments_lexer": "ipython3",
   "version": "3.8.3"
  }
 },
 "nbformat": 4,
 "nbformat_minor": 4
}
